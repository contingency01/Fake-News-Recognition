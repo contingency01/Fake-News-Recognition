{
 "cells": [
  {
   "cell_type": "markdown",
   "metadata": {},
   "source": [
    "# Multinomial Naive Bayes Classifier\n",
    "\n",
    "**Goal:** Classify a document *d* into one of *K* classes $C_k$, given its words.\n",
    "\n",
    "\n",
    "## 1. Bayes' Theorem\n",
    "\n",
    "$$\n",
    "P(C_k \\mid d) = \\frac{P(d \\mid C_k) \\cdot P(C_k)}{P(d)}\n",
    "$$\n",
    "\n",
    "Since  $P(d)$ is constant across classes, we use:\n",
    "\n",
    "$$\n",
    "\\arg\\max_{C_k} \\left[ P(d \\mid C_k) \\cdot P(C_k) \\right]\n",
    "$$\n",
    "\n",
    "\n",
    "## 2. Multinomial Model\n",
    "\n",
    "- Represent document *d* as a vector of word counts:  \n",
    "- $ d = n_1, n_2, \\dots, n_V $\n",
    "- $V$ is the size of the vocabulary.\n",
    "- $n_i$ is the number of times word $w_i$ appears in document *d*.\n",
    "\n",
    "$$\n",
    "P(d \\mid C_k) = \\frac{N_d!}{\\prod_{i=1}^{V} n_i!} \\prod_{i=1}^{V} \\left( P(w_i \\mid C_k) \\right)^{n_i}\n",
    "$$\n",
    "\n",
    "In practice, we ignore the multinomial coefficient and compute:\n",
    "\n",
    "$$\n",
    "\\log P(d \\mid C_k) = \\sum_{i=1}^{V} n_i \\cdot \\log P(w_i \\mid C_k)\n",
    "$$\n",
    "\n",
    "\n",
    "## 3. Priors\n",
    "\n",
    "$$\n",
    "P(C_k) = \\frac{\\text{Number of documents in class } C_k}{\\text{Total number of documents}}\n",
    "$$\n",
    "\n",
    "\n",
    "## 4. Likelihoods with Smoothing\n",
    "\n",
    "$$\n",
    "P(w_i \\mid C_k) = \\frac{N_{ik} + \\alpha}{N_k + \\alpha V}\n",
    "$$\n",
    "\n",
    "Where:\n",
    "\n",
    "- $N_{ik}$ = number of times word $w_i$ occurs in documents of class $C_k$\n",
    "- $N_k$ = total number of words in documents of class $C_k$\n",
    "- $\\alpha$ = smoothing parameter (usually $\\alpha = 1$, Laplace smoothing)\n",
    "- $V$ = size of vocabulary\n",
    "\n",
    "\n",
    "## 5. Prediction Rule\n",
    "\n",
    "For a given document *d*, compute for each class:\n",
    "\n",
    "$$\n",
    "\\log P(C_k) + \\sum_{i=1}^{V} n_i \\cdot \\log P(w_i \\mid C_k)\n",
    "$$\n",
    "\n",
    "Choose the class with the highest score:\n",
    "\n",
    "$$\n",
    "\\hat{C} = \\arg\\max_{C_k} \\left[ \\log P(C_k) + \\sum_{i=1}^{V} n_i \\cdot \\log P(w_i \\mid C_k) \\right]\n",
    "$$\n",
    "\n",
    "\n",
    "## 6. Summary of Training Steps\n",
    "\n",
    "1. Compute $P(C_k)$ for each class.\n",
    "2. For each word $w_i$ and each class $C_k$, compute $P(w_i \\mid C_k)$ with smoothing.\n",
    "\n",
    "\n",
    "## 7. Summary of Prediction Steps\n",
    "\n",
    "1. For a new document *d*, compute the score for each class.\n",
    "2. Choose the class with the highest score.\n",
    "\n"
   ]
  },
  {
   "cell_type": "markdown",
   "metadata": {},
   "source": [
    "---\n",
    "# Load the datasets"
   ]
  },
  {
   "cell_type": "code",
   "execution_count": 128,
   "metadata": {
    "vscode": {
     "languageId": "r"
    }
   },
   "outputs": [],
   "source": [
    "# Load the required libraries\n",
    "library(ggplot2)\n",
    "library(tidytext)\n",
    "library(dplyr)\n",
    "library(tm)\n",
    "library(tidyr)"
   ]
  },
  {
   "cell_type": "code",
   "execution_count": 129,
   "metadata": {
    "vscode": {
     "languageId": "r"
    }
   },
   "outputs": [],
   "source": [
    "# Load the training and testing datasets\n",
    "train_data = read.csv(\"data/train.csv\")\n",
    "test_data = read.csv(\"data/test.csv\")"
   ]
  },
  {
   "cell_type": "code",
   "execution_count": 130,
   "metadata": {
    "vscode": {
     "languageId": "r"
    }
   },
   "outputs": [],
   "source": [
    "# Divide the training dataset into training and validation set. 20% of the data will be used for validation.\n",
    "\n",
    "set.seed(123)  # For reproducibility\n",
    "\n",
    "train_indices = sample(1:nrow(train_data), size = 0.8 * nrow(train_data))\n",
    "train_data = train_data[train_indices, ]\n",
    "validation_data = train_data[-train_indices, ]"
   ]
  },
  {
   "cell_type": "code",
   "execution_count": 131,
   "metadata": {
    "vscode": {
     "languageId": "r"
    }
   },
   "outputs": [
    {
     "name": "stdout",
     "output_type": "stream",
     "text": [
      "[1] \"--------- Training Data Summary ---------\"\n"
     ]
    },
    {
     "data": {
      "text/html": [
       "<table class=\"dataframe\">\n",
       "<caption>A data.frame: 1 x 3</caption>\n",
       "<thead>\n",
       "\t<tr><th scope=col>num_rows</th><th scope=col>num_cols</th><th scope=col>num_missing</th></tr>\n",
       "\t<tr><th scope=col>&lt;int&gt;</th><th scope=col>&lt;int&gt;</th><th scope=col>&lt;int&gt;</th></tr>\n",
       "</thead>\n",
       "<tbody>\n",
       "\t<tr><td>8192</td><td>3</td><td>0</td></tr>\n",
       "</tbody>\n",
       "</table>\n"
      ],
      "text/latex": [
       "A data.frame: 1 x 3\n",
       "\\begin{tabular}{lll}\n",
       " num\\_rows & num\\_cols & num\\_missing\\\\\n",
       " <int> & <int> & <int>\\\\\n",
       "\\hline\n",
       "\t 8192 & 3 & 0\\\\\n",
       "\\end{tabular}\n"
      ],
      "text/markdown": [
       "\n",
       "A data.frame: 1 x 3\n",
       "\n",
       "| num_rows &lt;int&gt; | num_cols &lt;int&gt; | num_missing &lt;int&gt; |\n",
       "|---|---|---|\n",
       "| 8192 | 3 | 0 |\n",
       "\n"
      ],
      "text/plain": [
       "  num_rows num_cols num_missing\n",
       "1 8192     3        0          "
      ]
     },
     "metadata": {},
     "output_type": "display_data"
    },
    {
     "name": "stdout",
     "output_type": "stream",
     "text": [
      "[1] \"--------- Validation Set Summary ---------\"\n"
     ]
    },
    {
     "data": {
      "text/html": [
       "<table class=\"dataframe\">\n",
       "<caption>A data.frame: 1 x 3</caption>\n",
       "<thead>\n",
       "\t<tr><th scope=col>num_rows</th><th scope=col>num_cols</th><th scope=col>num_missing</th></tr>\n",
       "\t<tr><th scope=col>&lt;int&gt;</th><th scope=col>&lt;int&gt;</th><th scope=col>&lt;int&gt;</th></tr>\n",
       "</thead>\n",
       "<tbody>\n",
       "\t<tr><td>1612</td><td>3</td><td>0</td></tr>\n",
       "</tbody>\n",
       "</table>\n"
      ],
      "text/latex": [
       "A data.frame: 1 x 3\n",
       "\\begin{tabular}{lll}\n",
       " num\\_rows & num\\_cols & num\\_missing\\\\\n",
       " <int> & <int> & <int>\\\\\n",
       "\\hline\n",
       "\t 1612 & 3 & 0\\\\\n",
       "\\end{tabular}\n"
      ],
      "text/markdown": [
       "\n",
       "A data.frame: 1 x 3\n",
       "\n",
       "| num_rows &lt;int&gt; | num_cols &lt;int&gt; | num_missing &lt;int&gt; |\n",
       "|---|---|---|\n",
       "| 1612 | 3 | 0 |\n",
       "\n"
      ],
      "text/plain": [
       "  num_rows num_cols num_missing\n",
       "1 1612     3        0          "
      ]
     },
     "metadata": {},
     "output_type": "display_data"
    },
    {
     "name": "stdout",
     "output_type": "stream",
     "text": [
      "[1] \"--------- Testing Data Summary ---------\"\n"
     ]
    },
    {
     "data": {
      "text/html": [
       "<table class=\"dataframe\">\n",
       "<caption>A data.frame: 1 x 3</caption>\n",
       "<thead>\n",
       "\t<tr><th scope=col>num_rows</th><th scope=col>num_cols</th><th scope=col>num_missing</th></tr>\n",
       "\t<tr><th scope=col>&lt;int&gt;</th><th scope=col>&lt;int&gt;</th><th scope=col>&lt;int&gt;</th></tr>\n",
       "</thead>\n",
       "<tbody>\n",
       "\t<tr><td>1267</td><td>2</td><td>0</td></tr>\n",
       "</tbody>\n",
       "</table>\n"
      ],
      "text/latex": [
       "A data.frame: 1 x 3\n",
       "\\begin{tabular}{lll}\n",
       " num\\_rows & num\\_cols & num\\_missing\\\\\n",
       " <int> & <int> & <int>\\\\\n",
       "\\hline\n",
       "\t 1267 & 2 & 0\\\\\n",
       "\\end{tabular}\n"
      ],
      "text/markdown": [
       "\n",
       "A data.frame: 1 x 3\n",
       "\n",
       "| num_rows &lt;int&gt; | num_cols &lt;int&gt; | num_missing &lt;int&gt; |\n",
       "|---|---|---|\n",
       "| 1267 | 2 | 0 |\n",
       "\n"
      ],
      "text/plain": [
       "  num_rows num_cols num_missing\n",
       "1 1267     2        0          "
      ]
     },
     "metadata": {},
     "output_type": "display_data"
    }
   ],
   "source": [
    "print(\"--------- Training Data Summary ---------\")\n",
    "summarize(train_data,\n",
    "          num_rows = n(), \n",
    "          num_cols = ncol(train_data),\n",
    "          num_missing = sum(is.na(train_data)))\n",
    "\n",
    "print(\"--------- Validation Set Summary ---------\")\n",
    "summarise(validation_data,\n",
    "          num_rows = n(),\n",
    "          num_cols = ncol(validation_data),\n",
    "          num_missing = sum(is.na(validation_data)))\n",
    "\n",
    "print(\"--------- Testing Data Summary ---------\")\n",
    "summarise(test_data,\n",
    "          num_rows = n(),\n",
    "          num_cols = ncol(test_data),\n",
    "          num_missing = sum(is.na(test_data)))"
   ]
  },
  {
   "cell_type": "code",
   "execution_count": 132,
   "metadata": {
    "vscode": {
     "languageId": "r"
    }
   },
   "outputs": [],
   "source": [
    "train_set = train_set %>% mutate(doc_id = row_number())\n",
    "validation_data = validation_data %>% mutate(doc_id = row_number())\n",
    "test_data = test_data %>% mutate(doc_id = row_number())"
   ]
  },
  {
   "cell_type": "code",
   "execution_count": 133,
   "metadata": {
    "vscode": {
     "languageId": "r"
    }
   },
   "outputs": [],
   "source": [
    "train_data$Text = as.character(train_data$Text)\n",
    "validation_data$Text = as.character(validation_data$Text)\n",
    "test_data$Text = as.character(test_data$Text)"
   ]
  },
  {
   "cell_type": "code",
   "execution_count": 134,
   "metadata": {
    "vscode": {
     "languageId": "r"
    }
   },
   "outputs": [
    {
     "data": {
      "text/html": [
       "<table class=\"dataframe\">\n",
       "<caption>A data.frame: 5 x 4</caption>\n",
       "<thead>\n",
       "\t<tr><th></th><th scope=col>Labels</th><th scope=col>Text</th><th scope=col>Text_Tag</th><th scope=col>doc_id</th></tr>\n",
       "\t<tr><th></th><th scope=col>&lt;int&gt;</th><th scope=col>&lt;chr&gt;</th><th scope=col>&lt;chr&gt;</th><th scope=col>&lt;int&gt;</th></tr>\n",
       "</thead>\n",
       "<tbody>\n",
       "\t<tr><th scope=row>2463</th><td>4</td><td>Says Wisconsin Gov. Scott Walkers budget calls for raising property taxes by nearly $500 billion.                                                   </td><td>state-budget,taxes                  </td><td>1</td></tr>\n",
       "\t<tr><th scope=row>2511</th><td>5</td><td>Californias credit rating is the worst in the country.                                                                                              </td><td>economy,message-machine,state-budget</td><td>2</td></tr>\n",
       "\t<tr><th scope=row>8718</th><td>5</td><td>Michael Thurmond authored major legislation that has provided more than $250 million in tax relief to Georgias senior citizens and working families.</td><td>taxes                               </td><td>3</td></tr>\n",
       "\t<tr><th scope=row>2986</th><td>3</td><td>Palin \"fired Wasilla's Police Chief because he 'intimidated' her.\"                                                                                  </td><td>crime                               </td><td>4</td></tr>\n",
       "\t<tr><th scope=row>1842</th><td>5</td><td>[L]ess than one-tenth of Atlantas transportation needs are covered in a referendum to levy a 1-cent sales tax.                                      </td><td>transportation                      </td><td>5</td></tr>\n",
       "</tbody>\n",
       "</table>\n"
      ],
      "text/latex": [
       "A data.frame: 5 x 4\n",
       "\\begin{tabular}{r|llll}\n",
       "  & Labels & Text & Text\\_Tag & doc\\_id\\\\\n",
       "  & <int> & <chr> & <chr> & <int>\\\\\n",
       "\\hline\n",
       "\t2463 & 4 & Says Wisconsin Gov. Scott Walkers budget calls for raising property taxes by nearly \\$500 billion.                                                    & state-budget,taxes                   & 1\\\\\n",
       "\t2511 & 5 & Californias credit rating is the worst in the country.                                                                                               & economy,message-machine,state-budget & 2\\\\\n",
       "\t8718 & 5 & Michael Thurmond authored major legislation that has provided more than \\$250 million in tax relief to Georgias senior citizens and working families. & taxes                                & 3\\\\\n",
       "\t2986 & 3 & Palin \"fired Wasilla's Police Chief because he 'intimidated' her.\"                                                                                   & crime                                & 4\\\\\n",
       "\t1842 & 5 & {[}L{]}ess than one-tenth of Atlantas transportation needs are covered in a referendum to levy a 1-cent sales tax.                                       & transportation                       & 5\\\\\n",
       "\\end{tabular}\n"
      ],
      "text/markdown": [
       "\n",
       "A data.frame: 5 x 4\n",
       "\n",
       "| <!--/--> | Labels &lt;int&gt; | Text &lt;chr&gt; | Text_Tag &lt;chr&gt; | doc_id &lt;int&gt; |\n",
       "|---|---|---|---|---|\n",
       "| 2463 | 4 | Says Wisconsin Gov. Scott Walkers budget calls for raising property taxes by nearly $500 billion.                                                    | state-budget,taxes                   | 1 |\n",
       "| 2511 | 5 | Californias credit rating is the worst in the country.                                                                                               | economy,message-machine,state-budget | 2 |\n",
       "| 8718 | 5 | Michael Thurmond authored major legislation that has provided more than $250 million in tax relief to Georgias senior citizens and working families. | taxes                                | 3 |\n",
       "| 2986 | 3 | Palin \"fired Wasilla's Police Chief because he 'intimidated' her.\"                                                                                   | crime                                | 4 |\n",
       "| 1842 | 5 | [L]ess than one-tenth of Atlantas transportation needs are covered in a referendum to levy a 1-cent sales tax.                                       | transportation                       | 5 |\n",
       "\n"
      ],
      "text/plain": [
       "     Labels\n",
       "2463 4     \n",
       "2511 5     \n",
       "8718 5     \n",
       "2986 3     \n",
       "1842 5     \n",
       "     Text                                                                                                                                                \n",
       "2463 Says Wisconsin Gov. Scott Walkers budget calls for raising property taxes by nearly $500 billion.                                                   \n",
       "2511 Californias credit rating is the worst in the country.                                                                                              \n",
       "8718 Michael Thurmond authored major legislation that has provided more than $250 million in tax relief to Georgias senior citizens and working families.\n",
       "2986 Palin \"fired Wasilla's Police Chief because he 'intimidated' her.\"                                                                                  \n",
       "1842 [L]ess than one-tenth of Atlantas transportation needs are covered in a referendum to levy a 1-cent sales tax.                                      \n",
       "     Text_Tag                             doc_id\n",
       "2463 state-budget,taxes                   1     \n",
       "2511 economy,message-machine,state-budget 2     \n",
       "8718 taxes                                3     \n",
       "2986 crime                                4     \n",
       "1842 transportation                       5     "
      ]
     },
     "metadata": {},
     "output_type": "display_data"
    }
   ],
   "source": [
    "train_set[0:5,]"
   ]
  },
  {
   "cell_type": "markdown",
   "metadata": {},
   "source": [
    "### Possible labels of the data\n",
    "- False: 1\n",
    "- Half-True: 2\n",
    "- Mostly-True: 3\n",
    "- Not-Known: 4\n",
    "- True: 5\n",
    "- Barely-True: 0"
   ]
  },
  {
   "cell_type": "code",
   "execution_count": 135,
   "metadata": {
    "vscode": {
     "languageId": "r"
    }
   },
   "outputs": [
    {
     "data": {
      "image/png": "[encoded data removed]",
      "text/plain": [
       "plot without title"
      ]
     },
     "metadata": {
      "image/png": {
       "height": 420,
       "width": 420
      }
     },
     "output_type": "display_data"
    }
   ],
   "source": [
    "ggplot(train_set, aes(x = factor(Labels), fill = factor(Labels))) +\n",
    "  geom_bar() +\n",
    "  labs(title = \"Distribution of Labels in Training Set\",\n",
    "       x = \"Label\",\n",
    "       y = \"Count\") +\n",
    "  theme_minimal() +\n",
    "  theme(plot.title = element_text(hjust = 0.5)) +\n",
    "  scale_x_discrete(labels = c(\"0\" = \"Barely True\", \n",
    "                               \"1\" = \"False\", \n",
    "                               \"2\" = \"Half True\", \n",
    "                               \"3\" = \"Mostly True\", \n",
    "                               \"4\" = \"Not Known\", \n",
    "                               \"5\" = \"True\")) +\n",
    "  scale_fill_manual(values = c(\"0\" = \"#b78b67\", \n",
    "                               \"1\" = \"#67b7a1\", \n",
    "                               \"2\" = \"#b7679f\", \n",
    "                               \"3\" = \"#679fb7\", \n",
    "                               \"4\" = \"#b7b767\", \n",
    "                               \"5\" = \"#8b67b7\"))"
   ]
  },
  {
   "cell_type": "markdown",
   "metadata": {},
   "source": [
    "# Tokenization\n",
    "We tokenize all of the datasets such that each datapoint will be a vector of the words it contains. All of the letters are converted into lowercase. The punctuation is removed. Stopwords such as \"and\", \"of\", or \"the\" are also removed. We replace numbers with a < number > placeholder unless it includes a dollar sign ($) or a percentage (%)"
   ]
  },
  {
   "cell_type": "code",
   "execution_count": 136,
   "metadata": {
    "vscode": {
     "languageId": "r"
    }
   },
   "outputs": [],
   "source": [
    "tokenize_and_clean_text <- function(data_frame) {\n",
    "  data_frame %>%\n",
    "    # Tokenize the text into individual words (from tidytext library)\n",
    "    unnest_tokens(word, Text, drop = FALSE) %>%\n",
    "    # Remove punctuation (uses regex to match punctuation characters)\n",
    "    mutate(word = gsub(\"[[:punct:]]\", \"\", word)) %>%\n",
    "    # Replace numbers with a placeholder unless they start with $ or end with %\n",
    "    mutate(word = ifelse(grepl(\"^\\\\$[0-9]+|[0-9]+%$\", word), \n",
    "                         word, \n",
    "                         gsub(\"[[:digit:]]+\", \"<number>\", word))) %>%\n",
    "    # Remove English stopwords\n",
    "    anti_join(stop_words, by = \"word\") %>%\n",
    "    # Filter out any empty strings\n",
    "    filter(word != \"\") %>%\n",
    "    # Filter out single-character words\n",
    "    filter(nchar(word) > 1)\n",
    "}"
   ]
  },
  {
   "cell_type": "code",
   "execution_count": 137,
   "metadata": {
    "vscode": {
     "languageId": "r"
    }
   },
   "outputs": [],
   "source": [
    "tokenized_train_set = tokenize_and_clean_text(train_set)\n",
    "tokenized_test_data = tokenize_and_clean_text(test_data)\n",
    "tokenized_validation_data = tokenize_and_clean_text(validation_data)"
   ]
  },
  {
   "cell_type": "code",
   "execution_count": 138,
   "metadata": {
    "vscode": {
     "languageId": "r"
    }
   },
   "outputs": [
    {
     "data": {
      "text/html": [
       "<table class=\"dataframe\">\n",
       "<caption>A data.frame: 9 x 5</caption>\n",
       "<thead>\n",
       "\t<tr><th></th><th scope=col>Labels</th><th scope=col>Text</th><th scope=col>Text_Tag</th><th scope=col>doc_id</th><th scope=col>word</th></tr>\n",
       "\t<tr><th></th><th scope=col>&lt;int&gt;</th><th scope=col>&lt;chr&gt;</th><th scope=col>&lt;chr&gt;</th><th scope=col>&lt;int&gt;</th><th scope=col>&lt;chr&gt;</th></tr>\n",
       "</thead>\n",
       "<tbody>\n",
       "\t<tr><th scope=row>7</th><td>4</td><td>Says Wisconsin Gov. Scott Walkers budget calls for raising property taxes by nearly $500 billion.</td><td>state-budget,taxes                  </td><td>1</td><td>raising    </td></tr>\n",
       "\t<tr><th scope=row>8</th><td>4</td><td>Says Wisconsin Gov. Scott Walkers budget calls for raising property taxes by nearly $500 billion.</td><td>state-budget,taxes                  </td><td>1</td><td>property   </td></tr>\n",
       "\t<tr><th scope=row>9</th><td>4</td><td>Says Wisconsin Gov. Scott Walkers budget calls for raising property taxes by nearly $500 billion.</td><td>state-budget,taxes                  </td><td>1</td><td>taxes      </td></tr>\n",
       "\t<tr><th scope=row>10</th><td>4</td><td>Says Wisconsin Gov. Scott Walkers budget calls for raising property taxes by nearly $500 billion.</td><td><span style=white-space:pre-wrap>state-budget,taxes                  </span></td><td>1</td><td><span style=white-space:pre-wrap>&lt;number&gt;   </span></td></tr>\n",
       "\t<tr><th scope=row>11</th><td>4</td><td>Says Wisconsin Gov. Scott Walkers budget calls for raising property taxes by nearly $500 billion.</td><td>state-budget,taxes                  </td><td>1</td><td>billion    </td></tr>\n",
       "\t<tr><th scope=row>12</th><td>5</td><td>Californias credit rating is the worst in the country.                                           </td><td>economy,message-machine,state-budget</td><td>2</td><td>californias</td></tr>\n",
       "\t<tr><th scope=row>13</th><td>5</td><td>Californias credit rating is the worst in the country.                                           </td><td>economy,message-machine,state-budget</td><td>2</td><td>credit     </td></tr>\n",
       "\t<tr><th scope=row>14</th><td>5</td><td>Californias credit rating is the worst in the country.                                           </td><td>economy,message-machine,state-budget</td><td>2</td><td>rating     </td></tr>\n",
       "\t<tr><th scope=row>15</th><td>5</td><td>Californias credit rating is the worst in the country.                                           </td><td>economy,message-machine,state-budget</td><td>2</td><td>worst      </td></tr>\n",
       "</tbody>\n",
       "</table>\n"
      ],
      "text/latex": [
       "A data.frame: 9 x 5\n",
       "\\begin{tabular}{r|lllll}\n",
       "  & Labels & Text & Text\\_Tag & doc\\_id & word\\\\\n",
       "  & <int> & <chr> & <chr> & <int> & <chr>\\\\\n",
       "\\hline\n",
       "\t7 & 4 & Says Wisconsin Gov. Scott Walkers budget calls for raising property taxes by nearly \\$500 billion. & state-budget,taxes                   & 1 & raising    \\\\\n",
       "\t8 & 4 & Says Wisconsin Gov. Scott Walkers budget calls for raising property taxes by nearly \\$500 billion. & state-budget,taxes                   & 1 & property   \\\\\n",
       "\t9 & 4 & Says Wisconsin Gov. Scott Walkers budget calls for raising property taxes by nearly \\$500 billion. & state-budget,taxes                   & 1 & taxes      \\\\\n",
       "\t10 & 4 & Says Wisconsin Gov. Scott Walkers budget calls for raising property taxes by nearly \\$500 billion. & state-budget,taxes                   & 1 & <number>   \\\\\n",
       "\t11 & 4 & Says Wisconsin Gov. Scott Walkers budget calls for raising property taxes by nearly \\$500 billion. & state-budget,taxes                   & 1 & billion    \\\\\n",
       "\t12 & 5 & Californias credit rating is the worst in the country.                                            & economy,message-machine,state-budget & 2 & californias\\\\\n",
       "\t13 & 5 & Californias credit rating is the worst in the country.                                            & economy,message-machine,state-budget & 2 & credit     \\\\\n",
       "\t14 & 5 & Californias credit rating is the worst in the country.                                            & economy,message-machine,state-budget & 2 & rating     \\\\\n",
       "\t15 & 5 & Californias credit rating is the worst in the country.                                            & economy,message-machine,state-budget & 2 & worst      \\\\\n",
       "\\end{tabular}\n"
      ],
      "text/markdown": [
       "\n",
       "A data.frame: 9 x 5\n",
       "\n",
       "| <!--/--> | Labels &lt;int&gt; | Text &lt;chr&gt; | Text_Tag &lt;chr&gt; | doc_id &lt;int&gt; | word &lt;chr&gt; |\n",
       "|---|---|---|---|---|---|\n",
       "| 7 | 4 | Says Wisconsin Gov. Scott Walkers budget calls for raising property taxes by nearly $500 billion. | state-budget,taxes                   | 1 | raising     |\n",
       "| 8 | 4 | Says Wisconsin Gov. Scott Walkers budget calls for raising property taxes by nearly $500 billion. | state-budget,taxes                   | 1 | property    |\n",
       "| 9 | 4 | Says Wisconsin Gov. Scott Walkers budget calls for raising property taxes by nearly $500 billion. | state-budget,taxes                   | 1 | taxes       |\n",
       "| 10 | 4 | Says Wisconsin Gov. Scott Walkers budget calls for raising property taxes by nearly $500 billion. | state-budget,taxes                   | 1 | &lt;number&gt;    |\n",
       "| 11 | 4 | Says Wisconsin Gov. Scott Walkers budget calls for raising property taxes by nearly $500 billion. | state-budget,taxes                   | 1 | billion     |\n",
       "| 12 | 5 | Californias credit rating is the worst in the country.                                            | economy,message-machine,state-budget | 2 | californias |\n",
       "| 13 | 5 | Californias credit rating is the worst in the country.                                            | economy,message-machine,state-budget | 2 | credit      |\n",
       "| 14 | 5 | Californias credit rating is the worst in the country.                                            | economy,message-machine,state-budget | 2 | rating      |\n",
       "| 15 | 5 | Californias credit rating is the worst in the country.                                            | economy,message-machine,state-budget | 2 | worst       |\n",
       "\n"
      ],
      "text/plain": [
       "   Labels\n",
       "7  4     \n",
       "8  4     \n",
       "9  4     \n",
       "10 4     \n",
       "11 4     \n",
       "12 5     \n",
       "13 5     \n",
       "14 5     \n",
       "15 5     \n",
       "   Text                                                                                             \n",
       "7  Says Wisconsin Gov. Scott Walkers budget calls for raising property taxes by nearly $500 billion.\n",
       "8  Says Wisconsin Gov. Scott Walkers budget calls for raising property taxes by nearly $500 billion.\n",
       "9  Says Wisconsin Gov. Scott Walkers budget calls for raising property taxes by nearly $500 billion.\n",
       "10 Says Wisconsin Gov. Scott Walkers budget calls for raising property taxes by nearly $500 billion.\n",
       "11 Says Wisconsin Gov. Scott Walkers budget calls for raising property taxes by nearly $500 billion.\n",
       "12 Californias credit rating is the worst in the country.                                           \n",
       "13 Californias credit rating is the worst in the country.                                           \n",
       "14 Californias credit rating is the worst in the country.                                           \n",
       "15 Californias credit rating is the worst in the country.                                           \n",
       "   Text_Tag                             doc_id word       \n",
       "7  state-budget,taxes                   1      raising    \n",
       "8  state-budget,taxes                   1      property   \n",
       "9  state-budget,taxes                   1      taxes      \n",
       "10 state-budget,taxes                   1      <number>   \n",
       "11 state-budget,taxes                   1      billion    \n",
       "12 economy,message-machine,state-budget 2      californias\n",
       "13 economy,message-machine,state-budget 2      credit     \n",
       "14 economy,message-machine,state-budget 2      rating     \n",
       "15 economy,message-machine,state-budget 2      worst      "
      ]
     },
     "metadata": {},
     "output_type": "display_data"
    }
   ],
   "source": [
    "tokenized_train_set[7:15, ]"
   ]
  },
  {
   "cell_type": "markdown",
   "metadata": {},
   "source": [
    "# Document-term matrices"
   ]
  },
  {
   "cell_type": "code",
   "execution_count": 139,
   "metadata": {
    "vscode": {
     "languageId": "r"
    }
   },
   "outputs": [],
   "source": [
    "create_dtm <- function(tokenized_data) {\n",
    "  # Ensure the tokenized data has columns 'doc_id' and 'word'\n",
    "  if (!all(c(\"doc_id\", \"word\") %in% colnames(tokenized_data))) {\n",
    "    stop(\"The data must contain 'doc_id' and 'word' columns.\")\n",
    "  }\n",
    "\n",
    "  # Count word occurrences per document\n",
    "  word_counts <- tokenized_data %>%\n",
    "    count(doc_id, word)\n",
    "\n",
    "  # Create a document-term matrix\n",
    "  dtm <- word_counts %>%\n",
    "    cast_dtm(document = doc_id, term = word, value = n)\n",
    "\n",
    "  return(dtm)\n",
    "}"
   ]
  },
  {
   "cell_type": "code",
   "execution_count": 140,
   "metadata": {
    "vscode": {
     "languageId": "r"
    }
   },
   "outputs": [
    {
     "name": "stdout",
     "output_type": "stream",
     "text": [
      "<<DocumentTermMatrix (documents: 8192, terms: 10099)>>\n",
      "Non-/sparse entries: 69888/82661120\n",
      "Sparsity           : 100%\n",
      "Maximal term length: 23\n",
      "Weighting          : term frequency (tf)\n",
      "Sample             :\n",
      "      Terms\n",
      "Docs   <number> care health jobs million obama people percent president tax\n",
      "  1098        0    0      0    0       0     0      1       0         0   0\n",
      "  1825        7    0      0    0       0     0      0       0         0   1\n",
      "  3407        0    0      0    3       0     0      0       0         0   0\n",
      "  3596       44    1      1    0       0     1      0       0         4   0\n",
      "  3962       11    0      0    2       0     2      0       0         3   0\n",
      "  4565        0    0      0    0       0     0      0       0         0   0\n",
      "  5034        4    0      0    0       0     0      0       2         0   1\n",
      "  6752        5    1      1    0       0     0      0       0         0   2\n",
      "  7380       55    1      1    1       0     2      1       2         2   0\n",
      "  7900       80    3      3    0       3     0      1       2         1   1\n"
     ]
    }
   ],
   "source": [
    "training_matrix = create_dtm(tokenized_train_set)\n",
    "validation_matrix = create_dtm(tokenized_validation_data)\n",
    "test_matrix = create_dtm(tokenized_test_data)\n",
    "\n",
    "inspect(training_matrix)"
   ]
  },
  {
   "cell_type": "code",
   "execution_count": 141,
   "metadata": {
    "vscode": {
     "languageId": "r"
    }
   },
   "outputs": [
    {
     "data": {
      "text/html": [
       "<style>\n",
       ".list-inline {list-style: none; margin:0; padding: 0}\n",
       ".list-inline>li {display: inline-block}\n",
       ".list-inline>li:not(:last-child)::after {content: \"\\00b7\"; padding: 0 .5ex}\n",
       "</style>\n",
       "<ol class=list-inline><li>8192</li><li>10099</li></ol>\n"
      ],
      "text/latex": [
       "\\begin{enumerate*}\n",
       "\\item 8192\n",
       "\\item 10099\n",
       "\\end{enumerate*}\n"
      ],
      "text/markdown": [
       "1. 8192\n",
       "2. 10099\n",
       "\n",
       "\n"
      ],
      "text/plain": [
       "[1]  8192 10099"
      ]
     },
     "metadata": {},
     "output_type": "display_data"
    },
    {
     "data": {
      "text/html": [
       "<style>\n",
       ".list-inline {list-style: none; margin:0; padding: 0}\n",
       ".list-inline>li {display: inline-block}\n",
       ".list-inline>li:not(:last-child)::after {content: \"\\00b7\"; padding: 0 .5ex}\n",
       "</style>\n",
       "<ol class=list-inline><li>1612</li><li>4228</li></ol>\n"
      ],
      "text/latex": [
       "\\begin{enumerate*}\n",
       "\\item 1612\n",
       "\\item 4228\n",
       "\\end{enumerate*}\n"
      ],
      "text/markdown": [
       "1. 1612\n",
       "2. 4228\n",
       "\n",
       "\n"
      ],
      "text/plain": [
       "[1] 1612 4228"
      ]
     },
     "metadata": {},
     "output_type": "display_data"
    },
    {
     "data": {
      "text/html": [
       "<style>\n",
       ".list-inline {list-style: none; margin:0; padding: 0}\n",
       ".list-inline>li {display: inline-block}\n",
       ".list-inline>li:not(:last-child)::after {content: \"\\00b7\"; padding: 0 .5ex}\n",
       "</style>\n",
       "<ol class=list-inline><li>1267</li><li>3713</li></ol>\n"
      ],
      "text/latex": [
       "\\begin{enumerate*}\n",
       "\\item 1267\n",
       "\\item 3713\n",
       "\\end{enumerate*}\n"
      ],
      "text/markdown": [
       "1. 1267\n",
       "2. 3713\n",
       "\n",
       "\n"
      ],
      "text/plain": [
       "[1] 1267 3713"
      ]
     },
     "metadata": {},
     "output_type": "display_data"
    }
   ],
   "source": [
    "dim(training_matrix)\n",
    "dim(validation_matrix)\n",
    "dim(test_matrix)"
   ]
  },
  {
   "cell_type": "markdown",
   "metadata": {},
   "source": [
    "# Training"
   ]
  },
  {
   "cell_type": "code",
   "execution_count": 142,
   "metadata": {
    "vscode": {
     "languageId": "r"
    }
   },
   "outputs": [],
   "source": [
    "train_naive_bayes <- function(train_matrix, train_labels, validation_matrix, validation_labels) {\n",
    "  # Ensure labels are factors\n",
    "  train_labels <- as.factor(train_labels)\n",
    "  validation_labels <- as.factor(validation_labels)\n",
    "  \n",
    "  # Get unique classes\n",
    "  classes <- levels(train_labels)\n",
    "  \n",
    "  # Calculate prior probabilities (P(Class))\n",
    "  priors <- table(train_labels) / length(train_labels)\n",
    "  \n",
    "  # Calculate likelihoods (P(Word|Class))\n",
    "  likelihoods <- list()\n",
    "  for (class in classes) {\n",
    "    # Subset the training matrix for the current class\n",
    "    class_rows <- train_matrix[train_labels == class, ]\n",
    "    # Sum word counts for the class and add Laplace smoothing\n",
    "    word_totals <- colSums(class_rows) + 1\n",
    "    # Normalize to get probabilities\n",
    "    likelihoods[[class]] <- word_totals / sum(word_totals)\n",
    "  }\n",
    "  \n",
    "  # Predict function\n",
    "  predict_naive_bayes <- function(matrix, priors, likelihoods, classes) {\n",
    "    predictions <- c()\n",
    "    for (i in 1:nrow(matrix)) {\n",
    "      doc <- matrix[i, ]\n",
    "      class_probs <- c()\n",
    "      for (class in classes) {\n",
    "        # Prepare likelihood vector with fallback value for missing words\n",
    "        likelihood_vec <- likelihoods[[class]]\n",
    "        epsilon <- 1e-10  # small value to avoid log(0)\n",
    "  \n",
    "        # Safe lookup\n",
    "        likelihood_safe <- sapply(colnames(matrix), function(word) {\n",
    "        if (word %in% names(likelihood_vec)) {\n",
    "          likelihood_vec[[word]]\n",
    "        }\n",
    "        else {\n",
    "          epsilon\n",
    "        }\n",
    "  })\n",
    "  \n",
    "  # Calculate log-probabilities to avoid underflow\n",
    "  log_prob <- log(priors[class]) + sum(doc * log(likelihood_safe))\n",
    "  \n",
    "  class_probs <- c(class_probs, log_prob)\n",
    "}\n",
    "\n",
    "      # Assign the class with the highest probability\n",
    "      predictions <- c(predictions, classes[which.max(class_probs)])\n",
    "    }\n",
    "    return(predictions)\n",
    "  }\n",
    "  \n",
    "  # Predict on the validation set\n",
    "  validation_predictions <- predict_naive_bayes(validation_matrix, priors, likelihoods, classes)\n",
    "  \n",
    "  # Evaluate the model\n",
    "  confusion_matrix <- table(Predicted = validation_predictions, Actual = validation_labels)\n",
    "  accuracy <- sum(diag(confusion_matrix)) / sum(confusion_matrix)\n",
    "  \n",
    "  # Print results\n",
    "  print(\"Confusion Matrix:\")\n",
    "  print(confusion_matrix)\n",
    "  print(paste(\"Validation Accuracy:\", round(accuracy * 100, 2), \"%\"))\n",
    "  \n",
    "  return(list(priors = priors, likelihoods = likelihoods))\n",
    "}\n"
   ]
  },
  {
   "cell_type": "code",
   "execution_count": 143,
   "metadata": {
    "vscode": {
     "languageId": "r"
    }
   },
   "outputs": [
    {
     "name": "stdout",
     "output_type": "stream",
     "text": [
      "[1] \"Confusion Matrix:\"\n",
      "         Actual\n",
      "Predicted   0   1   2   3   4   5\n",
      "        0 161  24  10  11   8   9\n",
      "        1  24 204  13  17  22  27\n",
      "        2  51  43 247  31  15  45\n",
      "        3  27  31  32 225  15  34\n",
      "        4   0   0   1   4  62   1\n",
      "        5   7  15  13  10   6 167\n",
      "[1] \"Validation Accuracy: 66.13 %\"\n"
     ]
    }
   ],
   "source": [
    "# Example usage\n",
    "model <- train_naive_bayes(as.matrix(training_matrix), \n",
    "                           train_set$Labels,  # Replace with the correct training labels\n",
    "                           as.matrix(validation_matrix), \n",
    "                           validation_data$Labels)  # Replace with the correct validation labels"
   ]
  }
 ],
 "metadata": {
  "kernelspec": {
   "display_name": "R",
   "language": "R",
   "name": "ir"
  },
  "language_info": {
   "codemirror_mode": "r",
   "file_extension": ".r",
   "mimetype": "text/x-r-source",
   "name": "R",
   "pygments_lexer": "r",
   "version": "4.4.2"
  }
 },
 "nbformat": 4,
 "nbformat_minor": 4
}
